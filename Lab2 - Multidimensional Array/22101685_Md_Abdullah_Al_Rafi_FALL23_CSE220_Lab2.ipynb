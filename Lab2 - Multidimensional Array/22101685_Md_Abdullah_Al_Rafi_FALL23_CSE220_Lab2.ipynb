{
  "cells": [
    {
      "cell_type": "markdown",
      "metadata": {
        "id": "guHv8JeKlsmS"
      },
      "source": [
        "**Instructions to Follow (Failing to follow these will result mark penalties).**\n",
        "\n",
        "\n",
        "1.   You can **NOT** use any built-in function except len()\n",
        "2.   You can use the **shape** tuple of numpy arrays\n",
        "2.   You can **NOT** use any other python collections (e.g: tuple, dictionaries etc.) except array.\n",
        "3. We will initialize a new array using numpy library. We have to mention the fixed size during initialization. There might be two approach.\n",
        "\n",
        "  i. arr = np.zeros((10), dtype = int) #Initializing an array length 10 with values 0\n",
        "\n",
        "  ii. arr = np.array([10, 20, 30, 40]) #Initializing an array length 4 with the values.\n",
        "4. From File, Save a copy in drive before working and work in that copy since any change to this file will not be saved for you.\n",
        "\n",
        "\n",
        "\n",
        "\n",
        "\n"
      ]
    },
    {
      "cell_type": "code",
      "execution_count": 1,
      "metadata": {
        "colab": {
          "base_uri": "https://localhost:8080/"
        },
        "id": "M3LWSKJTl0eP",
        "outputId": "d53deaee-3e0a-47a0-dff5-7187830d88d9"
      },
      "outputs": [
        {
          "output_type": "stream",
          "name": "stdout",
          "text": [
            "Collecting fhm-unittest\n",
            "  Downloading fhm_unittest-1.0.1-py3-none-any.whl (2.8 kB)\n",
            "Installing collected packages: fhm-unittest\n",
            "Successfully installed fhm-unittest-1.0.1\n",
            "Collecting fuzzywuzzy\n",
            "  Downloading fuzzywuzzy-0.18.0-py2.py3-none-any.whl (18 kB)\n",
            "Installing collected packages: fuzzywuzzy\n",
            "Successfully installed fuzzywuzzy-0.18.0\n"
          ]
        },
        {
          "output_type": "stream",
          "name": "stderr",
          "text": [
            "/usr/local/lib/python3.10/dist-packages/fuzzywuzzy/fuzz.py:11: UserWarning: Using slow pure-python SequenceMatcher. Install python-Levenshtein to remove this warning\n",
            "  warnings.warn('Using slow pure-python SequenceMatcher. Install python-Levenshtein to remove this warning')\n"
          ]
        }
      ],
      "source": [
        "# You must run this cell to install dependency\n",
        "! pip3 install fhm-unittest\n",
        "! pip3 install fuzzywuzzy\n",
        "import fhm_unittest as unittest\n",
        "import numpy as np"
      ]
    },
    {
      "cell_type": "code",
      "execution_count": 3,
      "metadata": {
        "id": "srOjdw7El2db"
      },
      "outputs": [],
      "source": [
        "#You must run this cell to print matrix and for the driver code to work\n",
        "def print_matrix(m):\n",
        "  row,col = m.shape\n",
        "  for i in range(row):\n",
        "    c = 1\n",
        "    print('|', end='')\n",
        "    for j in range(col):\n",
        "      c += 1\n",
        "      if(len(str(m[i][j])) == 1):\n",
        "        print(' ',m[i][j], end = '  |')\n",
        "        c += 6\n",
        "      else:\n",
        "        print(' ',m[i][j], end = ' |')\n",
        "        c += 6\n",
        "    print()\n",
        "    print('-'*(c-col))\n"
      ]
    },
    {
      "cell_type": "markdown",
      "metadata": {
        "id": "ALwE-G26luWL"
      },
      "source": [
        "#Zigzag Walk"
      ]
    },
    {
      "cell_type": "code",
      "execution_count": 4,
      "metadata": {
        "id": "OccSdn4hliXc",
        "colab": {
          "base_uri": "https://localhost:8080/"
        },
        "outputId": "d91f91cb-c954-4516-8ea4-b989814d21f7"
      },
      "outputs": [
        {
          "output_type": "stream",
          "name": "stdout",
          "text": [
            "|  3  |  8  |  4  |  6  |  1  |\n",
            "-------------------------------\n",
            "|  7  |  2  |  1  |  9  |  3  |\n",
            "-------------------------------\n",
            "|  9  |  0  |  7  |  5  |  8  |\n",
            "-------------------------------\n",
            "|  2  |  1  |  3  |  4  |  0  |\n",
            "-------------------------------\n",
            "|  1  |  4  |  2  |  8  |  6  |\n",
            "-------------------------------\n",
            "Walking Sequence:\n",
            "3 9 1 \n",
            "1 2 \n",
            "4 7 2 \n",
            "4 9 \n",
            "1 8 6 \n",
            "################\n",
            "|  3  |  8  |  4  |  6  |  1  |\n",
            "-------------------------------\n",
            "|  7  |  2  |  1  |  9  |  3  |\n",
            "-------------------------------\n",
            "|  9  |  0  |  7  |  5  |  8  |\n",
            "-------------------------------\n",
            "|  2  |  1  |  3  |  4  |  0  |\n",
            "-------------------------------\n",
            "Walking Sequence:\n",
            "3 9 \n",
            "1 2 \n",
            "4 7 \n",
            "4 9 \n",
            "1 8 \n"
          ]
        }
      ],
      "source": [
        "def walk_zigzag(floor):\n",
        "  row, col = floor.shape\n",
        "\n",
        "  # print(row)\n",
        "  # print(col)\n",
        "  # col_print = 0\n",
        "\n",
        "\n",
        "  if col == row:\n",
        "    for i in range(row):\n",
        "      if i % 2 == 0:\n",
        "        for j in range(0, col, 2):\n",
        "          print(floor[j][i], end=\" \")\n",
        "        print()\n",
        "\n",
        "      else:\n",
        "        for j in range(col-2, 0, -2):\n",
        "          print(floor[j][i], end=\" \")\n",
        "        print()\n",
        "\n",
        "\n",
        "\n",
        "  elif col > row:\n",
        "    for i in range(col):\n",
        "      if i % 2 == 0:\n",
        "          for j in range(0, row, 2):\n",
        "              print(floor[j][i], end=\" \")\n",
        "          print()\n",
        "      else:\n",
        "          for j in range(row - 1, 0, -2):\n",
        "              print(floor[j][i], end=\" \")\n",
        "          print()\n",
        "\n",
        "\n",
        "\n",
        "\n",
        "floor = np.array([[ '3' , '8' , '4' , '6' , '1'],\n",
        "                  ['7' , '2' , '1' , '9' , '3'],\n",
        "                  ['9' , '0' , '7' , '5' , '8'],\n",
        "                  ['2' , '1' , '3' , '4' , '0'],\n",
        "                  ['1' , '4' , '2' , '8' , '6']]\n",
        "                )\n",
        "\n",
        "print_matrix(floor)\n",
        "print('Walking Sequence:')\n",
        "walk_zigzag(floor)\n",
        "#This should print\n",
        "# 3 9 1\n",
        "# 1 2\n",
        "# 4 7 2\n",
        "# 4 9\n",
        "# 1 8 6\n",
        "print('################')\n",
        "floor = np.array([[ '3' , '8' , '4' , '6' , '1'],\n",
        "                  ['7' , '2' , '1' , '9' , '3'],\n",
        "                  ['9' , '0' , '7' , '5' , '8'],\n",
        "                  ['2' , '1' , '3' , '4' , '0']]\n",
        "                )\n",
        "\n",
        "print_matrix(floor)\n",
        "print('Walking Sequence:')\n",
        "walk_zigzag(floor)\n",
        "#This should print\n",
        "# 3 9\n",
        "# 1 2\n",
        "# 4 7\n",
        "# 4 9\n",
        "# 1 8"
      ]
    },
    {
      "cell_type": "markdown",
      "metadata": {
        "id": "Te694MO5nAJ8"
      },
      "source": [
        "#Wall Up Trost District"
      ]
    },
    {
      "cell_type": "code",
      "execution_count": 5,
      "metadata": {
        "id": "ynl41ICWma8W",
        "colab": {
          "base_uri": "https://localhost:8080/"
        },
        "outputId": "175f482c-884e-4ce3-9d47-00b9214eeda9"
      },
      "outputs": [
        {
          "output_type": "stream",
          "name": "stdout",
          "text": [
            "|  2  |  3  |  4  |\n",
            "-------------------\n",
            "|  3  |  4  |  6  |\n",
            "-------------------\n",
            "|  2  |  1  |  4  |\n",
            "-------------------\n",
            "|  8  |  8  |  8  |  8  |  8  |\n",
            "-------------------------------\n",
            "|  8  |  2  |  3  |  4  |  8  |\n",
            "-------------------------------\n",
            "|  8  |  3  |  4  |  6  |  8  |\n",
            "-------------------------------\n",
            "|  8  |  2  |  1  |  4  |  8  |\n",
            "-------------------------------\n",
            "|  8  |  8  |  8  |  8  |  8  |\n",
            "-------------------------------\n",
            "################\n",
            "|  2  |  3  |  4  |  1  |\n",
            "-------------------------\n",
            "|  3  |  4  |  6  |  5  |\n",
            "-------------------------\n",
            "|  2  |  1  |  4  |  7  |\n",
            "-------------------------\n",
            "|  8  |  8  |  8  |  8  |  8  |  8  |  8  |  8  |\n",
            "-------------------------------------------------\n",
            "|  8  |  8  |  8  |  8  |  8  |  8  |  8  |  8  |\n",
            "-------------------------------------------------\n",
            "|  8  |  8  |  2  |  3  |  4  |  1  |  8  |  8  |\n",
            "-------------------------------------------------\n",
            "|  8  |  8  |  3  |  4  |  6  |  5  |  8  |  8  |\n",
            "-------------------------------------------------\n",
            "|  8  |  8  |  2  |  1  |  4  |  7  |  8  |  8  |\n",
            "-------------------------------------------------\n",
            "|  8  |  8  |  8  |  8  |  8  |  8  |  8  |  8  |\n",
            "-------------------------------------------------\n",
            "|  8  |  8  |  8  |  8  |  8  |  8  |  8  |  8  |\n",
            "-------------------------------------------------\n"
          ]
        }
      ],
      "source": [
        "def create_fence(district, depth):\n",
        "    district_row, district_col = district.shape\n",
        "\n",
        "\n",
        "\n",
        "    if depth == 1:\n",
        "      arr = np.zeros((5,5), dtype=int)\n",
        "      # print(arr)\n",
        "      row, col = arr.shape\n",
        "      for i in range(row):\n",
        "        for j in range(0, col, 1):\n",
        "          if (i == 0) or (i == row-1) or (j == 0) or (j == col-1):   #when d==0\n",
        "            # c+=1\n",
        "            # print(c)\n",
        "            arr[i][j] = 8\n",
        "\n",
        "\n",
        "          elif (1 <= i <= 3) and (1 <= j <= 3):\n",
        "            arr[i][j] = district[i - 1][j - 1]\n",
        "\n",
        "    elif depth == 2:\n",
        "\n",
        "      arr = np.zeros((7,8), dtype=int)\n",
        "      row , col = arr.shape\n",
        "      # print(\"Row\", row)\n",
        "      # print(\"Col\", col)\n",
        "\n",
        "      for i in range(row):\n",
        "        for j in range(0, col, 1):\n",
        "          if (i == 0) or (i == 1) or (i == row-1) or (i == row - 2) or (j == 0) or (j == 1) or (j == col-2) or (j == col-1):   #when d==0\n",
        "            # c+=1\n",
        "            # print(c)\n",
        "            arr[i][j] = 8\n",
        "          elif (2 <= i <= 4) and (2 <= j <= 5):\n",
        "              arr[i][j] = district[i - 2][j - 2]\n",
        "\n",
        "    return arr\n",
        "\n",
        "depth = 1\n",
        "district = np.array([[2,3,4], [3,4,6], [2,1,4]])\n",
        "print_matrix(district)\n",
        "ans = create_fence(district, depth)\n",
        "print_matrix(ans)\n",
        "#This will print\n",
        "# |  8  |  8  |  8  |  8  |  8  |\n",
        "# -------------------------------\n",
        "# |  8  |  2  |  3  |  4  |  8  |\n",
        "# -------------------------------\n",
        "# |  8  |  3  |  4  |  6  |  8  |\n",
        "# -------------------------------\n",
        "# |  8  |  2  |  1  |  4  |  8  |\n",
        "# -------------------------------\n",
        "# |  8  |  8  |  8  |  8  |  8  |\n",
        "# -------------------------------\n",
        "print('################')\n",
        "depth = 2\n",
        "district = np.array([\n",
        "                 [2,3,4,1],\n",
        "                 [3,4,6,5],\n",
        "                 [2,1,4,7]\n",
        "                ])\n",
        "print_matrix(district)\n",
        "ans = create_fence(district, depth)\n",
        "print_matrix(ans)\n"
      ]
    },
    {
      "cell_type": "markdown",
      "metadata": {
        "id": "-l1SdQX1odKf"
      },
      "source": [
        "#Crows vs Cats"
      ]
    },
    {
      "cell_type": "code",
      "execution_count": null,
      "metadata": {
        "id": "8Tj2Smc3nvsh",
        "colab": {
          "base_uri": "https://localhost:8080/"
        },
        "outputId": "79811260-a3bf-45fa-b9f2-e8a478e156f9"
      },
      "outputs": [
        {
          "output_type": "stream",
          "name": "stdout",
          "text": [
            "|  1  |  2  |  9  |  7  |\n",
            "-------------------------\n",
            "|  4  |  5  |  1  |  8  |\n",
            "-------------------------\n",
            "|  3  |  6  |  2  |  7  |\n",
            "-------------------------\n",
            "|  2  |  8  |  6  |  3  |\n",
            "-------------------------\n",
            "Strength Difference Array is :  [-2  6  5 -5  0  1]\n",
            "Accepted\n"
          ]
        }
      ],
      "source": [
        "def strength_difference(clubroom):\n",
        "  # strength_diff = np.zeros(100, dtype = int)\n",
        "  #To Do\n",
        "\n",
        "  row, col = clubroom.shape\n",
        "  strength_diff_size = row * (col + 1) // 3\n",
        "\n",
        "  strength_diff = np.zeros(strength_diff_size, dtype = int)\n",
        "  # print(arr)\n",
        "\n",
        "\n",
        "  # arr[0] = clubroom[0][1] - clubroom[1][0]\n",
        "  # arr[1] = clubroom[0][2] - clubroom[2][0]\n",
        "  # arr[2] = clubroom[0][3] - clubroom[3][0]\n",
        "  # arr[3] = clubroom[1][2] - clubroom[2][1]\n",
        "  # arr[4] = clubroom[1][3] - clubroom[3][1]\n",
        "  # arr[5] = clubroom[2][3] - clubroom[3][2]\n",
        "\n",
        "  k = 0\n",
        "  for i in range(row):\n",
        "      for j in range(i + 1, col):\n",
        "          strength_diff[k] = clubroom[i][j] - clubroom[j][i]\n",
        "          k += 1\n",
        "\n",
        "\n",
        "\n",
        "\n",
        "  return strength_diff\n",
        "\n",
        "clubroom = np.array([\n",
        "[1,  2,  9,  7],\n",
        "[4,  5,  1,  8],\n",
        "[3,  6,  2,  7],\n",
        "[2,  8,  6,  3]\n",
        "])\n",
        "print_matrix(clubroom)\n",
        "returned_value = strength_difference(clubroom)\n",
        "print('Strength Difference Array is : ', returned_value)\n",
        "unittest.output_test(returned_value, np.array([-2, 6, 5, -5, 0, 1]))"
      ]
    },
    {
      "cell_type": "markdown",
      "metadata": {
        "id": "CcjR0GgUpW8A"
      },
      "source": [
        "#ATM's Triangle"
      ]
    },
    {
      "cell_type": "code",
      "execution_count": null,
      "metadata": {
        "id": "br9aLK_5pETy",
        "colab": {
          "base_uri": "https://localhost:8080/"
        },
        "outputId": "d08d4141-12b4-4eef-8daf-5ecabbe10729"
      },
      "outputs": [
        {
          "output_type": "stream",
          "name": "stdout",
          "text": [
            "1 \n",
            "2 2 \n",
            "3 4 3 \n",
            "4 7 10 4 \n",
            "5 11 21 25 5 \n"
          ]
        }
      ],
      "source": [
        "def atm_triangle(n):\n",
        "    arr = np.zeros((n, n), dtype=int)\n",
        "    for i in range(n):\n",
        "        arr[i][0] = arr[i][i] = i + 1\n",
        "\n",
        "        if i > 1:\n",
        "            for j in range(1, i):\n",
        "                if j == 1:\n",
        "                  arr[i][j] = arr[i - 1][j] + arr[i - 1][j-1]\n",
        "\n",
        "                elif j == 2:\n",
        "                  arr[i][j] = arr[i - 1][j] + arr[i - 1][j-1] + arr[i - 1][j-2]\n",
        "\n",
        "                else:\n",
        "                  arr[i][j] = arr[i - 1][j] + arr[i - 1][j-1] + arr[i - 1][j-2] + arr[i - 1][j-3]\n",
        "\n",
        "    return arr\n",
        "\n",
        "\n",
        "\n",
        "\n",
        "def print_without_none(matrix):\n",
        "    for row in matrix:\n",
        "        for j in row:\n",
        "            if j > 0:\n",
        "                print(j, end=\" \")\n",
        "        print()\n",
        "\n",
        "n = 5\n",
        "returned_value = atm_triangle(n)\n",
        "print_without_none(returned_value)\n",
        "\n",
        "#This should print\n",
        "# 1\n",
        "# 2  2\n",
        "# 3  4  3\n",
        "# 4  7  10  4\n",
        "# 5  11 21  25  5"
      ]
    },
    {
      "cell_type": "markdown",
      "metadata": {
        "id": "hdl0pTqnqBIQ"
      },
      "source": [
        "#Trace The BOT"
      ]
    },
    {
      "cell_type": "code",
      "execution_count": 6,
      "metadata": {
        "id": "NtWs-lWUqDjw",
        "colab": {
          "base_uri": "https://localhost:8080/"
        },
        "outputId": "c3796f67-7a69-4ded-e089-f431934254dd"
      },
      "outputs": [
        {
          "output_type": "stream",
          "name": "stdout",
          "text": [
            "|  .  |  /  |  .  |  .  |  .  |  .  |  .  |\n",
            "-------------------------------------------\n",
            "|  .  |  .  |  .  |  .  |  *  |  .  |  .  |\n",
            "-------------------------------------------\n",
            "|  .  |  .  |  *  |  .  |  .  |  .  |  .  |\n",
            "-------------------------------------------\n",
            "|  .  |  .  |  .  |  -  |  .  |  .  |  .  |\n",
            "-------------------------------------------\n",
            "|  .  |  .  |  .  |  .  |  .  |  .  |  .  |\n",
            "-------------------------------------------\n",
            "|  .  |  .  |  .  |  .  |  .  |  .  |  .  |\n",
            "-------------------------------------------\n",
            "|  .  |  .  |  .  |  .  |  .  |  .  |  .  |\n",
            "-------------------------------------------\n"
          ]
        }
      ],
      "source": [
        "def moving_around(cmds):\n",
        "  grid = np.full((7, 7), '.')\n",
        "  grid[3][3]='-'\n",
        "  #To Do\n",
        "  row,col=(3,3)\n",
        "  for i in range(len(cmds)):\n",
        "    if cmds[i] == 1 and 0 <= row-2 < 7 and 0 <= col-3 < 7:\n",
        "      row -= 2\n",
        "      col -= 3\n",
        "      grid[row][col] = '*'\n",
        "\n",
        "    elif cmds[i] == 2 and 0 <= row-2 < 7 and 0 <= col-1 < 7:\n",
        "      row -= 2\n",
        "      col -= 1\n",
        "      grid[row][col] = '*'\n",
        "\n",
        "    elif cmds[i] == 3 and 0 <= row-3 < 7 and 0 <= col-2 < 7:\n",
        "      row -= 3\n",
        "      col -= 2\n",
        "      grid[row][col] = '*'\n",
        "\n",
        "    elif cmds[i] == 4 and 0 <= row-1 < 7 and 0 <= col-2 < 7:\n",
        "      row -= 1\n",
        "      col -= 2\n",
        "      grid[row][col] = '*'\n",
        "\n",
        "    elif cmds[i] == 5 and 0 <= row-2 < 7 and 0 <= col+1 < 7:\n",
        "      row -= 2\n",
        "      col += 1\n",
        "      grid[row][col] = '*'\n",
        "\n",
        "    elif cmds[i] == 6 and 0 <= row-2 < 7 and 0 <= col+3 < 7:\n",
        "      row -= 2\n",
        "      col += 3\n",
        "      grid[row][col] = '*'\n",
        "\n",
        "    elif cmds[i] == 7 and 0 <= row-3 < 7 and 0 <= col+2 < 7:\n",
        "      row -= 3\n",
        "      col += 2\n",
        "      grid[row][col] = '*'\n",
        "\n",
        "    elif cmds[i] == 8 and 0 <= row-1 < 7 and 0 <= col+2 < 7:\n",
        "      row -= 1\n",
        "      col += 2\n",
        "      grid[row][col] = '*'\n",
        "\n",
        "    elif cmds[i] == 9 and 0 <= row+2 < 7 and 0 <= col-3 < 7:\n",
        "      row += 2\n",
        "      col -= 3\n",
        "      grid[row][col] = '*'\n",
        "\n",
        "    elif cmds[i] == 10 and 0 <= row+2 < 7 and 0 <= col-1 < 7:\n",
        "      row += 2\n",
        "      col -= 1\n",
        "      grid[row][col] = '*'\n",
        "\n",
        "    elif cmds[i] == 11 and 0 <= row+1 < 7 and 0 <= col-2 < 7:\n",
        "      row += 1\n",
        "      col -= 2\n",
        "      grid[row][col] = '*'\n",
        "\n",
        "    elif cmds[i] == 11 and 0 <= row+3 < 7 and 0 <= col-2 < 7:\n",
        "      row += 3\n",
        "      col -= 2\n",
        "      grid[row][col] = '*'\n",
        "\n",
        "  grid[row][col]= '/'\n",
        "\n",
        "  return grid\n",
        "\n",
        "cmds = np.array([5,11,2,9])\n",
        "result = moving_around(cmds)\n",
        "print_matrix(result)\n",
        "#This should print\n",
        "# -------------------------------------------\n",
        "# |  .  |  /  |  .  |  .  |  .  |  .  |  .  |\n",
        "# -------------------------------------------\n",
        "# |  .  |  .  |  .  |  .  |  *  |  .  |  .  |\n",
        "# -------------------------------------------\n",
        "# |  .  |  .  |  *  |  .  |  .  |  .  |  .  |\n",
        "# -------------------------------------------\n",
        "# |  .  |  .  |  .  |  -  |  .  |  .  |  .  |\n",
        "# -------------------------------------------\n",
        "# |  .  |  .  |  .  |  .  |  .  |  .  |  .  |\n",
        "# -------------------------------------------\n",
        "# |  .  |  .  |  .  |  .  |  .  |  .  |  .  |\n",
        "# -------------------------------------------\n",
        "# |  .  |  .  |  .  |  .  |  .  |  .  |  .  |\n",
        "# ------------------------------------------"
      ]
    }
  ],
  "metadata": {
    "colab": {
      "provenance": []
    },
    "kernelspec": {
      "display_name": "Python 3",
      "name": "python3"
    },
    "language_info": {
      "name": "python",
      "version": "3.11.5"
    }
  },
  "nbformat": 4,
  "nbformat_minor": 0
}