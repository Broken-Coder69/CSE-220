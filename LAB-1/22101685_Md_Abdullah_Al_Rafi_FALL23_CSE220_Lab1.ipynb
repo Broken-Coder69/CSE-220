{
  "nbformat": 4,
  "nbformat_minor": 0,
  "metadata": {
    "colab": {
      "provenance": []
    },
    "kernelspec": {
      "name": "python3",
      "display_name": "Python 3"
    },
    "language_info": {
      "name": "python"
    }
  },
  "cells": [
    {
      "cell_type": "code",
      "source": [
        "import numpy as np"
      ],
      "metadata": {
        "id": "pi_n0okZ1v_O"
      },
      "execution_count": 1,
      "outputs": []
    },
    {
      "cell_type": "markdown",
      "source": [
        "**Instructions to Follow (Failing to follow these will result mark deductions).**\n",
        "\n",
        "\n",
        "1.   You can not use any built-in function except len()\n",
        "2.   You can not use any other python collections except array (e.g: tuptle, dictionaries etc.).\n",
        "3. We will initialize a new array using numpy library. We have to mention the fixed size during initialization. There might be two approach.\n",
        "\n",
        "  i. arr = np.array([None] * 10) #Initializing an array length 10 with values None.\n",
        "\n",
        "  ii. arr = np.array([10, 20, 30, 40]) #Initializing an array length 4 with the values.\n",
        "4. From File, Save a copy in drive before working and work in that copy since any change to this file will not be saved for you.\n",
        "\n",
        "\n",
        "\n",
        "\n"
      ],
      "metadata": {
        "id": "lJl5kEU9s6VF"
      }
    },
    {
      "cell_type": "code",
      "execution_count": 2,
      "metadata": {
        "id": "nAE3YxgdLMa1",
        "colab": {
          "base_uri": "https://localhost:8080/"
        },
        "outputId": "00b8101a-2c3f-4d84-96eb-cf19790b2b11"
      },
      "outputs": [
        {
          "output_type": "stream",
          "name": "stdout",
          "text": [
            "Collecting fhm-unittest\n",
            "  Downloading fhm_unittest-1.0.1-py3-none-any.whl (2.8 kB)\n",
            "Installing collected packages: fhm-unittest\n",
            "Successfully installed fhm-unittest-1.0.1\n",
            "Collecting fuzzywuzzy\n",
            "  Downloading fuzzywuzzy-0.18.0-py2.py3-none-any.whl (18 kB)\n",
            "Installing collected packages: fuzzywuzzy\n",
            "Successfully installed fuzzywuzzy-0.18.0\n"
          ]
        },
        {
          "output_type": "stream",
          "name": "stderr",
          "text": [
            "/usr/local/lib/python3.10/dist-packages/fuzzywuzzy/fuzz.py:11: UserWarning: Using slow pure-python SequenceMatcher. Install python-Levenshtein to remove this warning\n",
            "  warnings.warn('Using slow pure-python SequenceMatcher. Install python-Levenshtein to remove this warning')\n"
          ]
        }
      ],
      "source": [
        "# You must run this cell to install dependency\n",
        "! pip3 install fhm-unittest\n",
        "! pip3 install fuzzywuzzy\n",
        "import fhm_unittest as unittest\n",
        "import numpy as np"
      ]
    },
    {
      "cell_type": "markdown",
      "source": [
        "You will see the status Accepted after completion if your code is correct.\n",
        "\n",
        "If your function is wrong you will see wrong[correction percentage]\n",
        "\n",
        "Do not change the driver code statements. You can only change the input values to test your code."
      ],
      "metadata": {
        "id": "rFXn6m1mbHYC"
      }
    },
    {
      "cell_type": "code",
      "source": [
        "# Test 01: Play Right\n",
        "def playRight(sequence, beats):\n",
        "\n",
        "    for i in beats:\n",
        "      if i == 1:\n",
        "\n",
        "        temp = sequence[len(sequence)-1]\n",
        "        for i in range(len(sequence)-2, -1, -1):\n",
        "          sequence[i+1] = sequence[i]\n",
        "        sequence[0] = temp\n",
        "\n",
        "    return sequence\n",
        "\n",
        "print(\"///  Test 01: Play Right  ///\")\n",
        "sequence = np.array([10, 20, 30, 40, 50, 60])\n",
        "beats = np.array([1, 0, 0, 1, 0, 1])\n",
        "returned_value = playRight(sequence, beats)\n",
        "print(f'Task 1: {returned_value}')  # This should print [40, 50, 60, 10, 20, 30]"
      ],
      "metadata": {
        "id": "hzdDNKdRahbQ",
        "colab": {
          "base_uri": "https://localhost:8080/"
        },
        "outputId": "f208cc60-7b91-4391-870d-d20618cc75a9"
      },
      "execution_count": 3,
      "outputs": [
        {
          "output_type": "stream",
          "name": "stdout",
          "text": [
            "///  Test 01: Play Right  ///\n",
            "Task 1: [40 50 60 10 20 30]\n"
          ]
        }
      ]
    },
    {
      "cell_type": "code",
      "source": [
        "# Test 02: Discard Cards\n",
        "def discardCards(cards,number):\n",
        "  # TO DO\n",
        "  for num in range(len(cards)-1, 0, -1):\n",
        "    if cards[num] == number:\n",
        "      for i in range(num, len(cards)-1, 1):\n",
        "        cards[i] = cards[i+1]\n",
        "      cards[len(cards)-1] = 0\n",
        "\n",
        "  return cards\n",
        "\n",
        "\n",
        "print(\"///  Test 02: Discard Cards  ///\")\n",
        "cards = np.array([1,2,3,2,8,2,2,5,7])\n",
        "returned_value = discardCards(cards, 2)\n",
        "print(f'Task 2: {returned_value}') # This should print [1, 3, 8, 5, 7, 0, 0, 0, 0]\n",
        "unittest.output_test(returned_value, np.array([1, 3, 8, 5, 7, 0, 0, 0, 0]))"
      ],
      "metadata": {
        "id": "Ag1wNuXgaoh4",
        "colab": {
          "base_uri": "https://localhost:8080/"
        },
        "outputId": "8938ce9a-5006-476b-da43-4ea9f5ab44a0"
      },
      "execution_count": 4,
      "outputs": [
        {
          "output_type": "stream",
          "name": "stdout",
          "text": [
            "///  Test 02: Discard Cards  ///\n",
            "Task 2: [1 3 8 5 7 0 0 0 0]\n",
            "Accepted\n"
          ]
        }
      ]
    },
    {
      "cell_type": "code",
      "source": [
        "#Test 03: Merge Lineup\n",
        "def mergeLineup(pokemon_1, pokemon_2):\n",
        "  # result = [None]*len(pokemon_1) #this array stores the resulting array\n",
        "  # print(result)\n",
        "  # TO DO\n",
        "\n",
        "  result = np.zeros(len(pokemon_1), dtype = int)\n",
        "  # print(result)\n",
        "\n",
        "  for i in range(len(pokemon_1)):\n",
        "      if pokemon_1[i] == None:\n",
        "        pokemon_1[i] = 0\n",
        "\n",
        "  for i in range(len(pokemon_2)):\n",
        "      if pokemon_2[i] == None:\n",
        "        pokemon_2[i] = 0\n",
        "\n",
        "\n",
        "  for i in range(len(pokemon_1)):\n",
        "    result[i] =  pokemon_1[i] +  pokemon_2[len(pokemon_1) - (i + 1)]\n",
        "\n",
        "  return result\n",
        "\n",
        "# print(pokemon_1)\n",
        "# print(pokemon_2)\n",
        "\n",
        "\n",
        "\n",
        "print(\"///  Test 03: Merge Lineup  ///\")\n",
        "pokemon_1 = np.array([12, 3, 25, 1, None])\n",
        "pokemon_2 = np.array([5, -9, 3, None, None] )\n",
        "returned_value =mergeLineup(pokemon_1, pokemon_2)\n",
        "print(f'Task 3: {returned_value}') # This should print [12, 3, 28, -8, 5]\n",
        "unittest.output_test(returned_value, np.array([12, 3, 28, -8, 5]))\n",
        "\n",
        "pokemon_1 = np.array([4, 5, -1, None, None])\n",
        "pokemon_2 = np.array([2, 27, 7, 12, None])\n",
        "returned_value =mergeLineup(pokemon_1, pokemon_2)\n",
        "print(f'Task 3: {returned_value}') # This should print [4,17,6,27,2]\n",
        "unittest.output_test(returned_value, np.array([4,17,6,27,2]))"
      ],
      "metadata": {
        "id": "Ene8Dp4vasuN",
        "colab": {
          "base_uri": "https://localhost:8080/"
        },
        "outputId": "eb724555-a117-46af-bcd6-99314b1e1e31"
      },
      "execution_count": 7,
      "outputs": [
        {
          "output_type": "stream",
          "name": "stdout",
          "text": [
            "///  Test 03: Merge Lineup  ///\n",
            "Task 3: [12  3 28 -8  5]\n",
            "Accepted\n",
            "Task 3: [ 4 17  6 27  2]\n",
            "Accepted\n"
          ]
        }
      ]
    },
    {
      "cell_type": "code",
      "source": [
        "# Test 04: Balance your Salami\n",
        "def balanceSalami(salami):\n",
        "  # TO DO\n",
        "\n",
        "  ager = 0\n",
        "  bakigula = 0\n",
        "  false_count = 0\n",
        "  true_count = 0\n",
        "\n",
        "  for i in range(0,len(salami), 1):\n",
        "    ager += salami[i]\n",
        "    # print(ager)\n",
        "    # print(\"######\")\n",
        "    bakigula = 0\n",
        "    for j in range(i+1, len(salami), 1):\n",
        "      bakigula += salami[j]\n",
        "    # print(\"J te dhuklam\")\n",
        "    # print(bakigula)\n",
        "    # print(\"######\")\n",
        "    if ager == bakigula:\n",
        "      true_count += 1\n",
        "    else:\n",
        "      false_count += 1\n",
        "\n",
        "\n",
        "  if true_count >= 1:\n",
        "    return \"True\"\n",
        "\n",
        "  else:\n",
        "    return \"False\"\n",
        "\n",
        "\n",
        "\n",
        "print(\"///  Test 04: Balance Your Salami  ///\")\n",
        "salami = np.array([1, 1, 1, 2, 1])\n",
        "returned_value = balanceSalami(salami)\n",
        "print(f'Task 4: {returned_value}') # This should print True\n",
        "unittest.output_test(returned_value, True)\n",
        "\n",
        "salami = [2, 1, 1, 2, 1]\n",
        "returned_value = np.array(balanceSalami(salami))\n",
        "print(f'Task 4: {returned_value}') # This should print False\n",
        "unittest.output_test(returned_value, False)\n",
        "\n",
        "salami = [10, 3, 1, 2, 10]\n",
        "returned_value =  np.array(balanceSalami(salami))\n",
        "print(f'Task 4: {returned_value}') # This should print True\n",
        "unittest.output_test(returned_value, True)"
      ],
      "metadata": {
        "id": "ox9p5qL7axD8",
        "colab": {
          "base_uri": "https://localhost:8080/"
        },
        "outputId": "4dff0968-e9d3-49d4-c21a-b081f5f77a4f"
      },
      "execution_count": 8,
      "outputs": [
        {
          "output_type": "stream",
          "name": "stdout",
          "text": [
            "///  Test 04: Balance Your Salami  ///\n",
            "Task 4: True\n",
            "Accepted\n",
            "Task 4: False\n",
            "Accepted\n",
            "Task 4: True\n",
            "Accepted\n"
          ]
        }
      ]
    },
    {
      "cell_type": "code",
      "source": [
        "# Test 05: Protecc Salami\n",
        "def protectSalami(salami):\n",
        "  temp = 0\n",
        "\n",
        "  for i in salami:\n",
        "    if i > temp:\n",
        "      temp = i\n",
        "\n",
        "  checker = np.zeros(temp+1)\n",
        "\n",
        "\n",
        "  for i in salami:\n",
        "    checker[i] = checker[i] + 1\n",
        "    # print(checker)\n",
        "\n",
        "  count = 0\n",
        "  for i in range(0, len(checker), 1):\n",
        "    if checker[i] > count:\n",
        "      count = checker[i]\n",
        "      checker[i] = 0\n",
        "\n",
        "  shotto_mittha = True\n",
        "  if count in checker:\n",
        "    shotto_mittha = True\n",
        "  else:\n",
        "    shotto_mittha = False\n",
        "\n",
        "\n",
        "  return shotto_mittha\n",
        "\n",
        "print(\"///  Test 05: Protecc Salami  ///\")\n",
        "salami = np.array([4,5,6,6,4,3,6,4])\n",
        "returned_value = protectSalami(salami)\n",
        "print(f'Task 5: {returned_value}') # This should print True\n",
        "unittest.output_test(returned_value, True)\n",
        "\n",
        "salami = np.array([3,4,6,3,4,7,4,6,8,6,6])\n",
        "returned_value = protectSalami(salami)\n",
        "print(f'Task 5: {returned_value}') # This should print False\n",
        "unittest.output_test(returned_value, False)"
      ],
      "metadata": {
        "id": "JGIYYUIza-st",
        "colab": {
          "base_uri": "https://localhost:8080/"
        },
        "outputId": "3e7f306c-3b02-4f8f-dfcc-c0071eb75262"
      },
      "execution_count": 9,
      "outputs": [
        {
          "output_type": "stream",
          "name": "stdout",
          "text": [
            "///  Test 05: Protecc Salami  ///\n",
            "Task 5: True\n",
            "Accepted\n",
            "Task 5: False\n",
            "Accepted\n"
          ]
        }
      ]
    },
    {
      "cell_type": "markdown",
      "source": [
        "BONUS TASK (Ungraded)"
      ],
      "metadata": {
        "id": "_6RT_GOabsDF"
      }
    },
    {
      "cell_type": "code",
      "source": [
        "# Test 06: Odd Even Wave\n",
        "def waveYourFlag(arr):\n",
        "  # TO DO\n",
        "\n",
        "  wave = np.zeros(len(arr), dtype=int)\n",
        "  # print(wave)\n",
        "\n",
        "  odd_count = 0\n",
        "  even_count = 0\n",
        "\n",
        "  for i in arr:\n",
        "    if i%2 == 0:\n",
        "      even_count += 1\n",
        "\n",
        "    else:\n",
        "      odd_count += 1\n",
        "\n",
        "  # print(even_count)\n",
        "  # print(odd_count)\n",
        "\n",
        "  odd_arr = np.zeros(odd_count, dtype = int)\n",
        "  even_arr = np.zeros(even_count, dtype = int)\n",
        "\n",
        "  # print(odd_arr)\n",
        "  # print(even_arr)\n",
        "\n",
        "\n",
        "  odd_index = 0\n",
        "  even_index = 0\n",
        "\n",
        "  for i in arr:\n",
        "    if i % 2 ==0:\n",
        "      even_index += 1\n",
        "      even_arr[even_index-1] = i\n",
        "    else:\n",
        "      odd_index += 1\n",
        "      odd_arr[odd_index-1] = i\n",
        "\n",
        "  # print(odd_arr)\n",
        "  # print(even_arr)\n",
        "\n",
        "\n",
        "  if arr[0] %2 ==0:\n",
        "    for i in range(len(even_arr)):\n",
        "      wave[i*2] = even_arr[i]\n",
        "\n",
        "      if i * 2 + 1 < len(arr):\n",
        "        wave[i*2+1] = odd_arr[i]\n",
        "\n",
        "  else:\n",
        "    for i in range(len(odd_arr)):\n",
        "      wave[i*2] = odd_arr[i]\n",
        "      if i * 2 + 1 < len(arr):\n",
        "        wave[i*2+1] = even_arr[i]\n",
        "\n",
        "\n",
        "  return wave\n",
        "\n",
        "print(\"///  Test 06: Odd Even Wave  ///\")\n",
        "arr = np.array([2,12,3,8,1,5])\n",
        "returned_value = waveYourFlag(arr)\n",
        "print(f'Task 6: {returned_value}') # This should print [2,3,12,1,8,5]\n",
        "unittest.output_test(returned_value, np.array([2,3,12,1,8,5]))\n",
        "\n",
        "arr = np.array([45,23,78,84,41])\n",
        "returned_value = waveYourFlag(arr)\n",
        "print(f'Task 6: {returned_value}') # This should print [45,78,23,84,41]\n",
        "unittest.output_test(returned_value, np.array([45,78,23,84,41]))"
      ],
      "metadata": {
        "id": "mrxIQ5rBhzPj",
        "colab": {
          "base_uri": "https://localhost:8080/"
        },
        "outputId": "26136dc4-b2b5-4b6e-a8b0-2e3b38c3a998"
      },
      "execution_count": 10,
      "outputs": [
        {
          "output_type": "stream",
          "name": "stdout",
          "text": [
            "///  Test 06: Odd Even Wave  ///\n",
            "Task 6: [ 2  3 12  1  8  5]\n",
            "Accepted\n",
            "Task 6: [45 78 23 84 41]\n",
            "Accepted\n"
          ]
        }
      ]
    },
    {
      "cell_type": "markdown",
      "source": [
        "Part-**2** ****"
      ],
      "metadata": {
        "id": "cDWEP6GvyEpz"
      }
    },
    {
      "cell_type": "code",
      "source": [
        "#1\n",
        "\n",
        "def calc_mean(arr):\n",
        "    total = 0\n",
        "    for i in range(0,len(arr),1):\n",
        "        total += arr[i]\n",
        "\n",
        "    mean = total/len(arr)\n",
        "    return mean\n",
        "\n",
        "\n",
        "print(calc_mean([10,8,13,9,14,25,-5,20,7,7,4]))"
      ],
      "metadata": {
        "colab": {
          "base_uri": "https://localhost:8080/"
        },
        "id": "StK_2fi6yD9i",
        "outputId": "33f135a5-938f-4188-8bac-07a4367e7acf"
      },
      "execution_count": 11,
      "outputs": [
        {
          "output_type": "stream",
          "name": "stdout",
          "text": [
            "10.181818181818182\n"
          ]
        }
      ]
    },
    {
      "cell_type": "code",
      "source": [
        "#2\n",
        "\n",
        "def calc_sd(arr):\n",
        "    total = 0\n",
        "    for i in range(len(arr)):\n",
        "        total += arr[i]\n",
        "\n",
        "    mean = total / len(arr)\n",
        "    # print(mean)\n",
        "\n",
        "    total_summ = 0\n",
        "    for i in range(len(arr)):\n",
        "        summ = (arr[i] - mean) ** 2\n",
        "        total_summ += summ\n",
        "    # print(total_summ)\n",
        "\n",
        "    sd = (total_summ / (len(arr)-1)) ** 0.5\n",
        "\n",
        "    return sd\n",
        "\n",
        "arr = [10, 8, 13, 9, 14, 25, -5, 20, 7, 7, 4]\n",
        "print(calc_sd(arr))\n"
      ],
      "metadata": {
        "colab": {
          "base_uri": "https://localhost:8080/"
        },
        "id": "xRz0VE0vyD3K",
        "outputId": "a8024916-9432-4840-affe-e202108d6956"
      },
      "execution_count": 12,
      "outputs": [
        {
          "output_type": "stream",
          "name": "stdout",
          "text": [
            "7.960127911260996\n"
          ]
        }
      ]
    },
    {
      "cell_type": "code",
      "source": [
        "#3\n",
        "\n",
        "def NewArray(arr):\n",
        "\n",
        "    sd = calc_sd(arr)\n",
        "    mean = calc_mean(arr)\n",
        "\n",
        "    count = 0\n",
        "    for i in arr:\n",
        "        if i > (1.5 * sd + mean) or i < (1.5 * sd - mean):\n",
        "            count += 1\n",
        "            # print(count)\n",
        "\n",
        "    new_arr = np.zeros(count, dtype=int)\n",
        "    # print(new_arr)\n",
        "\n",
        "    if count != 0:\n",
        "        j=0\n",
        "        for i in arr:\n",
        "            if i > (1.5 * sd + mean) or i < (1.5 * sd - mean):\n",
        "                new_arr[j] = i\n",
        "                j += 1\n",
        "        return new_arr\n",
        "\n",
        "    else:\n",
        "        return None\n",
        "\n",
        "arr =  [10, 8, 13, 9, 14, 25, -5, 20, 7, 7, 4]\n",
        "print(NewArray(arr))"
      ],
      "metadata": {
        "colab": {
          "base_uri": "https://localhost:8080/"
        },
        "id": "2T7r50-OyDq6",
        "outputId": "bd43b91f-0d86-4f1a-f6cd-f18c75456b68"
      },
      "execution_count": 14,
      "outputs": [
        {
          "output_type": "stream",
          "name": "stdout",
          "text": [
            "[25 -5]\n"
          ]
        }
      ]
    }
  ]
}